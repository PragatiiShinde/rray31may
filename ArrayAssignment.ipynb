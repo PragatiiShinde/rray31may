{
 "cells": [
  {
   "cell_type": "markdown",
   "id": "c03288d5",
   "metadata": {},
   "source": [
    "Q1.** Given an array of integers nums and an integer target, return indices of the two numbers such that they add up to target.\n",
    "\n",
    "You may assume that each input would have exactly one solution, and you may not use the same element twice.\n",
    "\n",
    "You can return the answer in any order.\n",
    "\n",
    "**Example:**\n",
    "Input: nums = [2,7,11,15], target = 9\n",
    "Output0 [0,1]\n"
   ]
  },
  {
   "cell_type": "code",
   "execution_count": 1,
   "id": "37f18c97",
   "metadata": {},
   "outputs": [
    {
     "name": "stdout",
     "output_type": "stream",
     "text": [
      "[0, 1]\n"
     ]
    }
   ],
   "source": [
    "class Solution(object):\n",
    "   def twoSum(self, nums, target):\n",
    "    \n",
    "      required = {}\n",
    "      for i in range(len(nums)):\n",
    "         if target - nums[i] in required:\n",
    "            return [required[target - nums[i]],i]\n",
    "         else:\n",
    "            required[nums[i]]=i\n",
    "input_list = [2,7,11,15]\n",
    "ob1 = Solution()\n",
    "print(ob1.twoSum(input_list, 9))"
   ]
  },
  {
   "cell_type": "markdown",
   "id": "b17e9a91",
   "metadata": {},
   "source": [
    "Q3. Given a sorted array of distinct integers and a target value, return the index if the target is found. If not, return the index where it would be if it were inserted in order.\n",
    "\n",
    "You must write an algorithm with O(log n) runtime complexity.\n",
    "\n",
    "Example 1: Input: nums = [1,3,5,6], target = 5\n",
    "\n",
    "Output: 2"
   ]
  },
  {
   "cell_type": "code",
   "execution_count": 2,
   "id": "d6878594",
   "metadata": {},
   "outputs": [
    {
     "name": "stdout",
     "output_type": "stream",
     "text": [
      "2\n"
     ]
    }
   ],
   "source": [
    "def find_index(arr, n, K):\n",
    " \n",
    "    # Lower and upper bounds\n",
    "    start = 0\n",
    "    end = n - 1\n",
    " \n",
    "    # Traverse the search space\n",
    "    while start<= end:\n",
    " \n",
    "        mid =(start + end)//2\n",
    " \n",
    "        if arr[mid] == K:\n",
    "            return mid\n",
    " \n",
    "        elif arr[mid] < K:\n",
    "            start = mid + 1\n",
    "        else:\n",
    "            end = mid-1\n",
    " \n",
    "    # Return the insert position\n",
    "    return end + 1\n",
    " \n",
    "# Driver Code\n",
    "arr = [1,3,5,6]\n",
    "n = len(arr)\n",
    "K = 5\n",
    "print(find_index(arr, n, K))"
   ]
  },
  {
   "cell_type": "markdown",
   "id": "68dbdcaa",
   "metadata": {},
   "source": [
    "Q5.** You are given two integer arrays nums1 and nums2, sorted in non-decreasing order, and two integers m and n, representing the number of elements in nums1 and nums2 respectively.\n",
    "\n",
    "Merge nums1 and nums2 into a single array sorted in non-decreasing order.\n",
    "\n",
    "The final sorted array should not be returned by the function, but instead be stored inside the array nums1. To accommodate this, nums1 has a length of m + n, where the first m elements denote the elements that should be merged, and the last n elements are set to 0 and should be ignored. nums2 has a length of n.\n",
    "\n",
    "Example 1: Input: nums1 = [1,2,3,0,0,0], m = 3, nums2 = [2,5,6], n = 3 Output: [1,2,2,3,5,6]"
   ]
  },
  {
   "cell_type": "code",
   "execution_count": 7,
   "id": "ef642fa1",
   "metadata": {},
   "outputs": [
    {
     "name": "stdout",
     "output_type": "stream",
     "text": [
      "Array after merging\n",
      "1 2 2 3 5 6 "
     ]
    }
   ],
   "source": [
    "def mergeArrays(arr1, arr2, n1, n2):\n",
    "    arr3 = [None] * (n1 + n2)\n",
    "    i = 0\n",
    "    j = 0\n",
    "    k = 0\n",
    " \n",
    "    # Traverse both array\n",
    "    while i < n1 and j < n2:\n",
    "     \n",
    "       \n",
    "        # with second array\n",
    "        if arr1[i] < arr2[j]:\n",
    "            arr3[k] = arr1[i]\n",
    "            k = k + 1\n",
    "            i = i + 1\n",
    "        else:\n",
    "            arr3[k] = arr2[j]\n",
    "            k = k + 1\n",
    "            j = j + 1\n",
    "     \n",
    " \n",
    "    \n",
    "    while i < n1:\n",
    "        arr3[k] = arr1[i];\n",
    "        k = k + 1\n",
    "        i = i + 1\n",
    " \n",
    "    # Store remaining elements\n",
    "    # of second array\n",
    "    while j < n2:\n",
    "        arr3[k] = arr2[j];\n",
    "        k = k + 1\n",
    "        j = j + 1\n",
    "    print(\"Array after merging\")\n",
    "    for i in range(n1 + n2):\n",
    "        print(str(arr3[i]), end = \" \")\n",
    " \n",
    "# Driver code\n",
    "arr1 = [1,2,3,0,0,0]\n",
    "n1 = 3\n",
    " \n",
    "arr2 = [2,5,6]\n",
    "n2 = 3\n",
    "mergeArrays(arr1, arr2, n1, n2);\n",
    " "
   ]
  },
  {
   "cell_type": "markdown",
   "id": "9fbe0771",
   "metadata": {},
   "source": [
    "Q6.** Given an integer array nums, return true if any value appears at least twice in the array, and return false if every element is distinct.\n",
    "\n",
    "Example 1: Input: nums = [1,2,3,1]"
   ]
  },
  {
   "cell_type": "code",
   "execution_count": 4,
   "id": "31712003",
   "metadata": {},
   "outputs": [
    {
     "name": "stdout",
     "output_type": "stream",
     "text": [
      "True\n"
     ]
    }
   ],
   "source": [
    "def test_duplicate(array_nums):\n",
    "    nums_set = set(array_nums)    \n",
    "    return len(array_nums) != len(nums_set)     \n",
    "print(test_duplicate([1,2,3,1]))"
   ]
  },
  {
   "cell_type": "markdown",
   "id": "0ec1dae7",
   "metadata": {},
   "source": [
    "Q7.** Given an integer array nums, move all 0's to the end of it while maintaining the relative order of the nonzero elements.\n",
    "\n",
    "Note that you must do this in-place without making a copy of the array.\n",
    "\n",
    "Example 1: Input: nums = [0,1,0,3,12] Output: [1,3,12,0,0]"
   ]
  },
  {
   "cell_type": "code",
   "execution_count": 5,
   "id": "2e46b9a6",
   "metadata": {},
   "outputs": [
    {
     "name": "stdout",
     "output_type": "stream",
     "text": [
      "1 3 12 0 0 "
     ]
    }
   ],
   "source": [
    "A = [0,1,0,3,12]\n",
    "n = len(A)\n",
    "B = [0] * n\n",
    "j = 0\n",
    "count = 0\n",
    " \n",
    "for i in range(n):\n",
    "    if A[i] != 0:\n",
    "        B[j] = A[i]\n",
    "        j += 1\n",
    "    else:\n",
    "        count += 1\n",
    " \n",
    "while count > 0:\n",
    "    B[j] = 0\n",
    "    count -= 1\n",
    "    j += 1\n",
    " \n",
    "for i in range(n):\n",
    "    A[i] = B[i]\n",
    " \n",
    "for i in range(n):\n",
    "    print(A[i], end=' ')"
   ]
  },
  {
   "cell_type": "markdown",
   "id": "49f74c93",
   "metadata": {},
   "source": [
    "Q8.** You have a set of integers s, which originally contains all the numbers from 1 to n. Unfortunately, due to some error, one of the numbers in s got duplicated to another number in the set, which results in repetition of one number and loss of another number.\n",
    "\n",
    "You are given an integer array nums representing the data status of this set after the error.\n",
    "\n",
    "Find the number that occurs twice and the number that is missing and return them in the form of an array.\n",
    "\n",
    "Example 1: Input: nums = [1,2,2,4] Output: [2,3]"
   ]
  },
  {
   "cell_type": "code",
   "execution_count": 6,
   "id": "f05172d5",
   "metadata": {},
   "outputs": [
    {
     "name": "stdout",
     "output_type": "stream",
     "text": [
      "[2, 3]\n"
     ]
    }
   ],
   "source": [
    "from collections import Counter\n",
    "\n",
    "mylist = sorted([1, 2, 2, 4])\n",
    "myset = {x for x in range(1, mylist[-1] + 1)}\n",
    "\n",
    "counts = Counter(mylist)  # a dictionary of counts in mylist\n",
    "dup = [x for (x, y) in counts.items() if y == 2]\n",
    "miss = list(myset - set(mylist))\n",
    "\n",
    "print(dup + miss)"
   ]
  },
  {
   "cell_type": "code",
   "execution_count": null,
   "id": "1c347be7",
   "metadata": {},
   "outputs": [],
   "source": []
  }
 ],
 "metadata": {
  "kernelspec": {
   "display_name": "Python 3 (ipykernel)",
   "language": "python",
   "name": "python3"
  },
  "language_info": {
   "codemirror_mode": {
    "name": "ipython",
    "version": 3
   },
   "file_extension": ".py",
   "mimetype": "text/x-python",
   "name": "python",
   "nbconvert_exporter": "python",
   "pygments_lexer": "ipython3",
   "version": "3.9.7"
  }
 },
 "nbformat": 4,
 "nbformat_minor": 5
}
